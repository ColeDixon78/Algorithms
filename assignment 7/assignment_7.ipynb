{
 "cells": [
  {
   "cell_type": "markdown",
   "metadata": {},
   "source": [
    "# Assignment 7\n",
    "## Cole Dixon\n",
    "\n",
    "\n",
    "\n",
    "### problem 1\n",
    "#### part a\n",
    "The brute force solution would be to check every possible contiguous subsequence, add up the numbers, and keep track of what the highest sum is throughout. There are $\\frac{n(n-1)}{2}$ subsequences in a list of size n. This means that the solutions would be $O(n^2)$ time just to check each substring. It also takes linear time to traverse each contiguous subsequence and add up the numbers meaning the solution is not $O(n^3)$."
   ]
  },
  {
   "cell_type": "code",
   "execution_count": 3,
   "metadata": {},
   "outputs": [],
   "source": [
    "import math\n",
    "import numpy as np\n",
    "from matplotlib import pyplot as plt\n",
    "import time"
   ]
  },
  {
   "cell_type": "code",
   "execution_count": 6,
   "metadata": {},
   "outputs": [],
   "source": [
    "# part a\n",
    "\n",
    "def brute_force_1(A):\n",
    "    largest = 0\n",
    "    for i in range (len(A)):\n",
    "        for j in range(len(A)-i):\n",
    "            sum = np.sum(A[i:-j])\n",
    "            if sum > largest: largest = sum\n",
    "    return largest\n",
    "\n",
    "# part b\n",
    "def dynamic_1(A):\n",
    "    pass\n"
   ]
  },
  {
   "cell_type": "code",
   "execution_count": 7,
   "metadata": {},
   "outputs": [
    {
     "name": "stdout",
     "output_type": "stream",
     "text": [
      "6\n"
     ]
    }
   ],
   "source": [
    "test = [-2,1,-3,4,-1,2,1,-5,4]\n",
    "print(brute_force_0(test))"
   ]
  }
 ],
 "metadata": {
  "kernelspec": {
   "display_name": "Python 3",
   "language": "python",
   "name": "python3"
  },
  "language_info": {
   "codemirror_mode": {
    "name": "ipython",
    "version": 3
   },
   "file_extension": ".py",
   "mimetype": "text/x-python",
   "name": "python",
   "nbconvert_exporter": "python",
   "pygments_lexer": "ipython3",
   "version": "3.9.7"
  }
 },
 "nbformat": 4,
 "nbformat_minor": 2
}
