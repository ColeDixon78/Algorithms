{
 "cells": [
  {
   "cell_type": "markdown",
   "metadata": {
    "vscode": {
     "languageId": "latex"
    }
   },
   "source": [
    "# Assignment 6\n",
    "## Problem 1"
   ]
  },
  {
   "cell_type": "markdown",
   "metadata": {
    "vscode": {
     "languageId": "latex"
    }
   },
   "source": [
    "#### part a\n",
    "||0| 1 | 2 | 3 | 4 | 5 | 6 | 7 |\n",
    "|---|---|---|---|---|---|---|---|---|\n",
    "|A|<ins>0</ins>|0|0|0|0|0|0|0|\n",
    "|B|$\\infty$|<ins>1</ins>,A|1,A|1,A|1,A|1,A|1,A|1,A|\n",
    "|C|$\\infty$|$\\infty$|<ins>3</ins>,B|3,B|3,B|3,B|3,B|3,B|\n",
    "|D|$\\infty$|$\\infty$|$\\infty$|<ins>4</ins>,C|4,C|4,C|4,C|4,C|\n",
    "|E|$\\infty$|4,A|4,A|4,A|<ins>4</ins>,A|4,A|4,A|4,A|4,A|4,A|4,A|\n",
    "|F|$\\infty$|8,A|7,B|7,B|7,B|7,B|<ins>6</ins>,G|6,G|\n",
    "|G|$\\infty$|$\\infty$|7,B|5,C|5,C|<ins>5</ins>,C|5,C|5,C|\n",
    "|H|$\\infty$|$\\infty$|$\\infty$|$\\infty$|8,D|8,D|6,G|<ins>6</ins>,G|\n",
    "\n",
    "#### part b\n",
    "![img](IMG_0226.png)"
   ]
  },
  {
   "cell_type": "markdown",
   "metadata": {},
   "source": [
    "## Problem 2\n",
    "The general approach for the problem will be to first traverse the matrix, and represent it as an undirected graph in which each tile is a vertex, and there is an edge between vertices if those two vertices represent adjacent land tiles. Once we have this representation, we simply have to perform depth first search and keep track of how many distinct connected components of the graph there are (excluding the water tiles). The graph will obvioulsy not necessarily be connected. Depth first search will explore all connected nodes given a start node. We simply need to count how many times this explore function is called on a land tile before all nodes are explored."
   ]
  },
  {
   "cell_type": "code",
   "execution_count": 32,
   "metadata": {},
   "outputs": [],
   "source": [
    "# I coded it for some reason - not worth the effort tbh\n",
    "class FindIslands:\n",
    "    def __init__(self,M):\n",
    "        # first convert the matrix M into an adjecency list\n",
    "        # assumes M is a square\n",
    "        self.M = M\n",
    "        self.dim = len(M)\n",
    "        self.adj_list = [[] for _ in range(self.dim**2)]\n",
    "        self.build_graph()\n",
    "        self.visited = {}\n",
    "        print(self.dfs())\n",
    "  \n",
    "    # given square matrix M, (0 = water, land = 1) convert it into an adjacency list\n",
    "    def build_graph(self):\n",
    "        for v in range((self.dim)**2):\n",
    "            if self.M[v//self.dim][v%self.dim] == 1: #check that current tile is land\n",
    "                if (v%self.dim != self.dim-1) and self.M[v//self.dim][v%self.dim + 1] == 1: #check tile to the right of current\n",
    "                    self.adj_list[v].append(v+1) #graph is undirected so add connection for both tiles\n",
    "                    self.adj_list[v+1].append(v)\n",
    "                if (v//self.dim != self.dim-1) and M[v//self.dim + 1][v%self.dim] == 1: #check tile underneath the current\n",
    "                    self.adj_list[v].append(v+self.dim) #graph is undirected so add connection for both tiles\n",
    "                    self.adj_list[v+self.dim].append(v)\n",
    "        \n",
    "    def explore(self,v):\n",
    "        #mark node as visited\n",
    "        self.visited[v] = 0\n",
    "        for u in self.adj_list[v]:\n",
    "            if u not in self.visited:\n",
    "                self.explore(u)\n",
    "\n",
    "    def dfs(self):\n",
    "        # now that we have adjacency list perform DFS\n",
    "        island_count = 0\n",
    "        for v in range(self.dim**2):\n",
    "            if v not in self.visited and self.M[v//self.dim][v%self.dim] == 1: #only need to explore a tile if it is a land tile and hasn't been explored already\n",
    "                self.explore(v)\n",
    "                island_count += 1\n",
    "        return island_count\n",
    "    "
   ]
  },
  {
   "cell_type": "code",
   "execution_count": 33,
   "metadata": {},
   "outputs": [
    {
     "name": "stdout",
     "output_type": "stream",
     "text": [
      "4\n"
     ]
    }
   ],
   "source": [
    "M = [\n",
    "[0,1,1,0,0],\n",
    "[1,1,0,1,1],\n",
    "[1,0,1,0,1],\n",
    "[0,1,0,0,1],\n",
    "[1,1,0,0,0]    \n",
    "] #example matrix\n",
    "prob = FindIslands(M) #looks like it works"
   ]
  },
  {
   "cell_type": "markdown",
   "metadata": {},
   "source": [
    "## Problem 3"
   ]
  },
  {
   "cell_type": "markdown",
   "metadata": {},
   "source": [
    "Idea is to BFS until you find the destination square."
   ]
  },
  {
   "cell_type": "code",
   "execution_count": 34,
   "metadata": {},
   "outputs": [],
   "source": [
    "#part a\n",
    "import numpy as np\n",
    "def valid_moves(pos,n):\n",
    "    moves = {'ul':np.array([-1,2]),\n",
    "             'ur':np.array([1,2]),\n",
    "             'ru':np.array([2,1]),\n",
    "             'rd':np.array([2,-1]),\n",
    "             'dl':np.array([-1,-2]),\n",
    "             'dr':np.array([1,-2]),\n",
    "             'lu':np.array([-2,1]),\n",
    "             'ld':np.array([-2,-1])}\n",
    "    for key in moves:\n",
    "        moves[key] += np.array(pos)\n",
    "        if moves[key][0] < 0 or moves[key][1] < 0 or moves[key][0] > n-1 or moves[key][1] > n-1:\n",
    "            moves[key] = None\n",
    "    return moves\n",
    "def chess_moves(start,dest,n):\n",
    "    dist_list = {start:(0,None)}\n",
    "    queue = []\n",
    "    queue.append(start)\n",
    "    while len(queue) != 0:\n",
    "        pos = queue.pop(0)\n",
    "        moves = valid_moves(pos,n)\n",
    "        for key in moves:\n",
    "            try:\n",
    "                if moves[key] == None:\n",
    "                    continue\n",
    "            except:\n",
    "                move = tuple(moves[key])\n",
    "                if move not in dist_list:\n",
    "                    dist_list[move] = (dist_list[pos][0] + 1,pos,key)\n",
    "                    queue.append(move)\n",
    "                    if move == dest:\n",
    "                        break\n",
    "    \n",
    "    move_sequence = []\n",
    "    curr = dest\n",
    "    while dist_list[curr][1] != None:\n",
    "        move_sequence.insert(0,dist_list[curr][2])\n",
    "        curr = dist_list[curr][1]\n",
    "    return dist_list[dest][0],move_sequence\n",
    "\n"
   ]
  },
  {
   "cell_type": "code",
   "execution_count": 35,
   "metadata": {},
   "outputs": [
    {
     "name": "stdout",
     "output_type": "stream",
     "text": [
      "(6, ['ur', 'ul', 'ur', 'ru', 'rd', 'ru'])\n"
     ]
    }
   ],
   "source": [
    "print(chess_moves((0,0),(7,7),8))\n",
    "# looks like it works. Interesting that the path goes along the edge of the board."
   ]
  },
  {
   "cell_type": "markdown",
   "metadata": {},
   "source": [
    "#### part b\n",
    "The runtime of the algorithm is linear because this is just breadth first search which is $O(|v|+|e|)$. This algorithm is actually slightly faster however because it can stop once you arrive at the destination. This means that not all vertices are necessarily explored. Nonetheless, the algorithm is at worst $O(|v|+|e|)$. The number of vertices is dependent on n: the dimension of the board. $|v| = n^2$ because |v| just represents the number of board tiles. For every vertex there is at most 8 edges from that vertex because a knight can only have at most 8 legal moves (less if it is near the edge of the board), so $|e| < 8|v| = 8n^2$. We can then say that $O(|v|+|e|) = O(n^2+8n^2) = O(n^2)$"
   ]
  },
  {
   "cell_type": "markdown",
   "metadata": {},
   "source": [
    "## Problem 4"
   ]
  },
  {
   "cell_type": "code",
   "execution_count": 36,
   "metadata": {},
   "outputs": [],
   "source": [
    "class PriorityQueue:\n",
    "    def __init__(self,mode = 'max'):\n",
    "        self.mode = mode\n",
    "        self.collection = []\n",
    "        self.size = 0\n",
    "        self.data_locations = {}\n",
    "    def __right(self,i):\n",
    "        return 2*i+1\n",
    "    def __left(self,i):\n",
    "        return 2*i+2\n",
    "    def __parent(self,i):\n",
    "        return (i-1)//2\n",
    "    def __sift_down(self,i):\n",
    "        l, r = self.__left(i),self.__right(i)\n",
    "        if l < len(self.collection) and self.collection[l][1] > self.collection[i][1]:\n",
    "            largest = l\n",
    "        else: largest = i\n",
    "        if r < len(self.collection) and self.collection[r][1] > self.collection[largest][1]:\n",
    "            largest = r\n",
    "        if largest != i:\n",
    "            self.data_locations[self.collection[i][0]], self.data_locations[self.collection[largest][0]]  = largest, i\n",
    "            self.collection[i],self.collection[largest] = self.collection[largest],self.collection[i]\n",
    "            self.__sift_down(largest)\n",
    "\n",
    "    def __bubble_up(self,i):\n",
    "        p = self.__parent(i)\n",
    "        if p == -1:\n",
    "            return\n",
    "        if self.collection[p][1] < self.collection[i][1]:\n",
    "            self.data_locations[self.collection[p][0]], self.data_locations[self.collection[i][0]]  = i, p\n",
    "            self.collection[p],self.collection[i] = self.collection[i],self.collection[p]\n",
    "            self.__bubble_up(p)\n",
    "        else:\n",
    "            return\n",
    "        \n",
    "    def enqueue(self,task,priority):\n",
    "        if self.mode == 'min':\n",
    "            priority *= -1\n",
    "        self.collection.append((task,priority))\n",
    "        self.data_locations[task] = self.size\n",
    "        self.__bubble_up(self.size)\n",
    "        self.size += 1\n",
    "\n",
    "    def dequeue(self):\n",
    "        removed = self.collection[0]\n",
    "        self.collection[0] = self.collection[self.size-1]\n",
    "        self.size -= 1\n",
    "        self.__sift_down(0)\n",
    "        if self.mode == 'min':\n",
    "            removed = (removed[0],removed[1] * -1)\n",
    "        return removed\n",
    "    \n",
    "    def get_max(self):\n",
    "        return self.collection[0][0]\n",
    "    \n",
    "    def change_priority(self,task,k):\n",
    "        if self.mode == 'min':\n",
    "            k *= -1\n",
    "        index = self.data_locations[task]\n",
    "        old = self.collection[index][1]\n",
    "        self.collection[index] = (task, k)\n",
    "        if k > old:\n",
    "            self.__bubble_up(index)\n",
    "        elif k <= old:\n",
    "            self.__sift_down(index)\n",
    "    \n",
    "    def __len__(self):\n",
    "        return self.size\n",
    "    \n",
    "    def __contains__(self,task):\n",
    "        return task in self.data_locations\n",
    "\n",
    "            \n"
   ]
  },
  {
   "cell_type": "code",
   "execution_count": 37,
   "metadata": {},
   "outputs": [],
   "source": [
    "import math\n",
    "def djikstras(G,s = None):\n",
    "    if s == None:\n",
    "        s = list(G.keys())[0]\n",
    "    dist = {}\n",
    "    prev = {s:None}\n",
    "    for k in G:\n",
    "        dist[k] = math.inf\n",
    "        prev[k] = None\n",
    "    dist[s] = 0\n",
    "    pq = PriorityQueue(mode = 'min')\n",
    "    pq.enqueue(s,0)\n",
    "    \n",
    "    while len(pq) > 0:\n",
    "        curr = pq.dequeue()\n",
    "        curr_task = curr[0]\n",
    "        curr_dist = curr[1]\n",
    "        for n in G[curr_task]:\n",
    "            if dist[n] == math.inf:\n",
    "                pq.enqueue(n,math.inf)\n",
    "            if dist[n] > curr_dist + G[curr_task][n]:\n",
    "                dist[n] = curr_dist + G[curr_task][n]\n",
    "                prev[n] = curr_task\n",
    "                pq.change_priority(n,curr_dist + G[curr_task][n])\n",
    "            \n",
    "    return dist,prev\n",
    "\n",
    "    "
   ]
  },
  {
   "cell_type": "code",
   "execution_count": 38,
   "metadata": {},
   "outputs": [
    {
     "name": "stdout",
     "output_type": "stream",
     "text": [
      "{'A': 0, 'B': 1, 'C': 3, 'D': 4, 'E': 4, 'F': 6, 'G': 5, 'H': 6}\n",
      "{'A': None, 'B': 'A', 'C': 'B', 'D': 'C', 'E': 'A', 'F': 'G', 'G': 'C', 'H': 'G'}\n"
     ]
    }
   ],
   "source": [
    "G = {\n",
    "    'A': {'B': 1, 'E': 4, 'F': 8},\n",
    "    'B': {'C': 2, 'F': 6, 'G': 6},\n",
    "    'C': {'D': 1, 'G': 2},\n",
    "    'D': {'G': 1, 'H': 4},\n",
    "    'E': {'F': 5},\n",
    "    'F': {},\n",
    "    'G': {'F': 1, 'H': 1},\n",
    "    'H': {}\n",
    "}\n",
    "dist, prev = djikstras(G,'A')\n",
    "print(dist)\n",
    "print(prev)"
   ]
  },
  {
   "cell_type": "markdown",
   "metadata": {},
   "source": [
    "## Problem 5"
   ]
  },
  {
   "cell_type": "code",
   "execution_count": 39,
   "metadata": {},
   "outputs": [],
   "source": [
    "#part a\n",
    "def bellmanford(G,s = None):\n",
    "    if s == None:\n",
    "        s = list(G.keys())[0]\n",
    "    dist = {}\n",
    "    prev = {s:None}\n",
    "    for k in G:\n",
    "        dist[k] = math.inf\n",
    "        prev[k] = None\n",
    "    dist[s] = 0\n",
    "    for _ in range(len(G)-1):\n",
    "        for k in G: #cycle through all edges and 'relax' them\n",
    "            for n in G[k]:\n",
    "                if dist[n] > dist[k] + G[k][n]:\n",
    "                    dist[n] = dist[k] + G[k][n]\n",
    "                    prev[n] = k\n",
    "    return dist,prev"
   ]
  },
  {
   "cell_type": "code",
   "execution_count": 40,
   "metadata": {},
   "outputs": [
    {
     "name": "stdout",
     "output_type": "stream",
     "text": [
      "{'A': 0, 'B': 1, 'C': 3, 'D': 4, 'E': 4, 'F': 6, 'G': 5, 'H': 6}\n",
      "{'A': None, 'B': 'A', 'C': 'B', 'D': 'C', 'E': 'A', 'F': 'G', 'G': 'C', 'H': 'G'}\n"
     ]
    }
   ],
   "source": [
    "G = {\n",
    "    'A': {'B': 1, 'E': 4, 'F': 8},\n",
    "    'B': {'C': 2, 'F': 6, 'G': 6},\n",
    "    'C': {'D': 1, 'G': 2},\n",
    "    'D': {'G': 1, 'H': 4},\n",
    "    'E': {'F': 5},\n",
    "    'F': {},\n",
    "    'G': {'F': 1, 'H': 1},\n",
    "    'H': {}\n",
    "}\n",
    "dist, prev = bellmanford(G)\n",
    "print(dist)\n",
    "print(prev) #check that it works"
   ]
  },
  {
   "cell_type": "code",
   "execution_count": 41,
   "metadata": {},
   "outputs": [
    {
     "name": "stdout",
     "output_type": "stream",
     "text": [
      "n =  10\n"
     ]
    },
    {
     "name": "stdout",
     "output_type": "stream",
     "text": [
      "n =  20\n",
      "n =  30\n",
      "n =  40\n",
      "n =  50\n",
      "n =  60\n",
      "n =  70\n",
      "n =  80\n",
      "n =  90\n"
     ]
    },
    {
     "data": {
      "image/png": "[encoded data removed]",
      "text/plain": [
       "<Figure size 640x480 with 1 Axes>"
      ]
     },
     "metadata": {},
     "output_type": "display_data"
    }
   ],
   "source": [
    "import graph_generators\n",
    "import time\n",
    "from matplotlib import pyplot as plt\n",
    "import numpy as np\n",
    "\n",
    "djikstra_times = []\n",
    "belmman_times = []\n",
    "for n in range(1,100,1):\n",
    "    if n % 10 == 0:\n",
    "        print(\"n = \",n)\n",
    "    trial_times_d = []\n",
    "    trial_times_b = []\n",
    "    for trial in range(10):\n",
    "        graph = graph_generators.random_weighted_graph(n)\n",
    "\n",
    "        start = time.perf_counter()\n",
    "        bellmanford(graph)\n",
    "        end = time.perf_counter()\n",
    "        trial_times_b.append(end-start)\n",
    "        \n",
    "        start = time.perf_counter()\n",
    "        djikstras(graph)\n",
    "        end = time.perf_counter()\n",
    "        trial_times_d.append(end-start)\n",
    "\n",
    "\n",
    "    belmman_times.append(np.mean(trial_times_b))\n",
    "    djikstra_times.append(np.mean(trial_times_d))\n",
    "\n",
    "fig, ax = plt.subplots()\n",
    "ax.set_title(\"Djikstra vs Bellman-Ford\")\n",
    "ax.set_ylabel(\"Time (seconds)\")\n",
    "ax.set_xlabel(\"Number of graph nodes\")\n",
    "ax.plot(np.arange(1,100,1),djikstra_times,label = 'djikstras')\n",
    "ax.plot(np.arange(1,100,1),belmman_times,label = 'bellman-ford')\n",
    "ax.legend()\n",
    "plt.show()\n",
    "        \n"
   ]
  },
  {
   "cell_type": "markdown",
   "metadata": {},
   "source": [
    "As expected, djikstra's outperforms bellman-ford."
   ]
  }
 ],
 "metadata": {
  "kernelspec": {
   "display_name": "Python 3",
   "language": "python",
   "name": "python3"
  },
  "language_info": {
   "codemirror_mode": {
    "name": "ipython",
    "version": 3
   },
   "file_extension": ".py",
   "mimetype": "text/x-python",
   "name": "python",
   "nbconvert_exporter": "python",
   "pygments_lexer": "ipython3",
   "version": "3.9.7"
  }
 },
 "nbformat": 4,
 "nbformat_minor": 2
}
